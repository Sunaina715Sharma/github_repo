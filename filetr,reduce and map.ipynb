{
 "cells": [
  {
   "cell_type": "markdown",
   "id": "6d0ebff2",
   "metadata": {},
   "source": [
    "### map,reduce and filter"
   ]
  },
  {
   "cell_type": "code",
   "execution_count": null,
   "id": "b809adb2",
   "metadata": {},
   "outputs": [],
   "source": [
    "# map, reduce and filter are built-in function"
   ]
  },
  {
   "cell_type": "code",
   "execution_count": 2,
   "id": "a259ebb8",
   "metadata": {},
   "outputs": [],
   "source": [
    "# map(fuc,iterable1,iterable2,...)"
   ]
  },
  {
   "cell_type": "code",
   "execution_count": 3,
   "id": "068bf862",
   "metadata": {},
   "outputs": [
    {
     "data": {
      "text/plain": [
       "32.0"
      ]
     },
     "execution_count": 3,
     "metadata": {},
     "output_type": "execute_result"
    }
   ],
   "source": [
    "c = [0,10,20,30,40,-40]\n",
    "def fah(c):\n",
    "    f = 9/5*c+32\n",
    "    return f\n",
    "fah(0)"
   ]
  },
  {
   "cell_type": "code",
   "execution_count": 4,
   "id": "3a6f7dee",
   "metadata": {},
   "outputs": [
    {
     "data": {
      "text/plain": [
       "[32.0, 50.0, 68.0, 86.0, 104.0, -40.0]"
      ]
     },
     "execution_count": 4,
     "metadata": {},
     "output_type": "execute_result"
    }
   ],
   "source": [
    "list(map(fah,c))"
   ]
  },
  {
   "cell_type": "code",
   "execution_count": 5,
   "id": "d560de3a",
   "metadata": {},
   "outputs": [],
   "source": [
    "r = [5,10,15,20] "
   ]
  },
  {
   "cell_type": "code",
   "execution_count": 7,
   "id": "29bc1fc6",
   "metadata": {},
   "outputs": [
    {
     "data": {
      "text/plain": [
       "[523.3333333333334, 4186.666666666667, 14130.0, 33493.333333333336]"
      ]
     },
     "execution_count": 7,
     "metadata": {},
     "output_type": "execute_result"
    }
   ],
   "source": [
    "list(map(vol,r))"
   ]
  },
  {
   "cell_type": "code",
   "execution_count": 26,
   "id": "de858843",
   "metadata": {},
   "outputs": [
    {
     "data": {
      "text/plain": [
       "4186.666666666667"
      ]
     },
     "execution_count": 26,
     "metadata": {},
     "output_type": "execute_result"
    }
   ],
   "source": [
    "#shortcut to create a function(lambda function)\n",
    "a = lambda r:4/3*3.14*r**3\n",
    "a(10)"
   ]
  },
  {
   "cell_type": "code",
   "execution_count": null,
   "id": "af27306e",
   "metadata": {},
   "outputs": [],
   "source": [
    "r = [5,10,15,20] "
   ]
  },
  {
   "cell_type": "code",
   "execution_count": 64,
   "id": "dbd03405",
   "metadata": {},
   "outputs": [
    {
     "data": {
      "text/plain": [
       "[523.3333333333334, 4186.666666666667, 14130.0, 33493.333333333336]"
      ]
     },
     "execution_count": 64,
     "metadata": {},
     "output_type": "execute_result"
    }
   ],
   "source": [
    "list(map(lambda r:4/3*3.14*r**3,r))"
   ]
  },
  {
   "cell_type": "code",
   "execution_count": 65,
   "id": "88a7050d",
   "metadata": {},
   "outputs": [
    {
     "data": {
      "text/plain": [
       "[523.33, 4186.67, 14130.0, 33493.33]"
      ]
     },
     "execution_count": 65,
     "metadata": {},
     "output_type": "execute_result"
    }
   ],
   "source": [
    "list(map(lambda r:round(4/3*3.14*r**3,2),r))"
   ]
  },
  {
   "cell_type": "code",
   "execution_count": 47,
   "id": "898d935c",
   "metadata": {},
   "outputs": [],
   "source": [
    "#create a function wherein we have to do the power of a number :"
   ]
  },
  {
   "cell_type": "code",
   "execution_count": 1,
   "id": "e18c0998",
   "metadata": {},
   "outputs": [
    {
     "name": "stdout",
     "output_type": "stream",
     "text": [
      "enter the power3\n"
     ]
    },
    {
     "data": {
      "text/plain": [
       "[1, 0, 7, 6, 5]"
      ]
     },
     "execution_count": 1,
     "metadata": {},
     "output_type": "execute_result"
    }
   ],
   "source": [
    "n = [2,3,4,5,6]    # done by me\n",
    "x = int(input(\"enter the power\"))\n",
    "a = list(map(lambda n:n^x,n))\n",
    "a"
   ]
  },
  {
   "cell_type": "code",
   "execution_count": null,
   "id": "54191532",
   "metadata": {},
   "outputs": [],
   "source": [
    "#create a function wherein we have to do the power of a number  by using two list one of power and one of bases:\n"
   ]
  },
  {
   "cell_type": "code",
   "execution_count": 67,
   "id": "05b13107",
   "metadata": {},
   "outputs": [
    {
     "data": {
      "text/plain": [
       "[100, 8, 81, 25]"
      ]
     },
     "execution_count": 67,
     "metadata": {},
     "output_type": "execute_result"
    }
   ],
   "source": [
    "bases = [10,2,3,5] # by me\n",
    "powers = [2,3,4,2]\n",
    "list(map(lambda bases,powers:bases**powers,bases,powers))"
   ]
  },
  {
   "cell_type": "code",
   "execution_count": 69,
   "id": "92debb10",
   "metadata": {},
   "outputs": [
    {
     "data": {
      "text/plain": [
       "[100, 8, 81, 25]"
      ]
     },
     "execution_count": 69,
     "metadata": {},
     "output_type": "execute_result"
    }
   ],
   "source": [
    "# by sir\n",
    "list(map(lambda n,x: n**x,[10,2,3,5],[2,3,4,2]))"
   ]
  },
  {
   "cell_type": "code",
   "execution_count": 70,
   "id": "863ceb51",
   "metadata": {},
   "outputs": [
    {
     "data": {
      "text/plain": [
       "['apple', 'apricot', '', '']"
      ]
     },
     "execution_count": 70,
     "metadata": {},
     "output_type": "execute_result"
    }
   ],
   "source": [
    "# WAP to find all the fruits which are starting with 'a' using map and lambda\n",
    "list(map(lambda fruits: fruits if fruits[0]==\"a\" else \"\",[\"apple\",\"apricot\",\"banana\",\"guava\"]))"
   ]
  },
  {
   "cell_type": "code",
   "execution_count": 73,
   "id": "f829f487",
   "metadata": {},
   "outputs": [
    {
     "data": {
      "text/plain": [
       "['apple', 'apricot']"
      ]
     },
     "execution_count": 73,
     "metadata": {},
     "output_type": "execute_result"
    }
   ],
   "source": [
    "# same que with FILTER \n",
    "list(filter(lambda fruits:fruits if fruits[0]==\"a\" else \"\",[\"apple\",\"apricot\",\"banana\",\"guava\"]))"
   ]
  },
  {
   "cell_type": "code",
   "execution_count": 74,
   "id": "cb30abae",
   "metadata": {},
   "outputs": [],
   "source": [
    "#REDUSE(it takes first arguement as a function, and then takes iterates)\n",
    "# reduce(func,iterable)\n"
   ]
  },
  {
   "cell_type": "code",
   "execution_count": 75,
   "id": "c4bed836",
   "metadata": {},
   "outputs": [],
   "source": [
    "from functools import reduce"
   ]
  },
  {
   "cell_type": "code",
   "execution_count": 76,
   "id": "9390cb4a",
   "metadata": {},
   "outputs": [
    {
     "data": {
      "text/plain": [
       "100"
      ]
     },
     "execution_count": 76,
     "metadata": {},
     "output_type": "execute_result"
    }
   ],
   "source": [
    "reduce(lambda a,b:a+b,[10,20,30,40])"
   ]
  },
  {
   "cell_type": "markdown",
   "id": "672f134c",
   "metadata": {},
   "source": [
    "###### output in dict"
   ]
  },
  {
   "cell_type": "code",
   "execution_count": 19,
   "id": "ea4ff1ce",
   "metadata": {},
   "outputs": [
    {
     "data": {
      "text/plain": [
       "{1: 1, 2: 4, 3: 9, 4: 16, 5: 25, 6: 36, 7: 49, 8: 64, 9: 81, 10: 100}"
      ]
     },
     "execution_count": 19,
     "metadata": {},
     "output_type": "execute_result"
    }
   ],
   "source": [
    "d = {i:i**2 for i in range(1,11)}\n",
    "d"
   ]
  },
  {
   "cell_type": "code",
   "execution_count": 22,
   "id": "c9dc2e51",
   "metadata": {},
   "outputs": [
    {
     "data": {
      "text/plain": [
       "{1: 1, 2: 4, 3: 27, 4: 16, 5: 125, 6: 36, 7: 343, 8: 64, 9: 729, 10: 100}"
      ]
     },
     "execution_count": 22,
     "metadata": {},
     "output_type": "execute_result"
    }
   ],
   "source": [
    "# WAP to print square of anum if it is even else print cube :\n",
    "d1 = {i:i**2 if i%2==0 else i**3 for i in range(1,11)}\n",
    "d1"
   ]
  },
  {
   "cell_type": "markdown",
   "id": "8b9c7915",
   "metadata": {},
   "source": [
    "##### Iterators and Generators"
   ]
  },
  {
   "cell_type": "code",
   "execution_count": null,
   "id": "76d77d1c",
   "metadata": {},
   "outputs": [],
   "source": [
    "# GENERATORS\n",
    "# they are also like iterators but the difference is iterators can be made using a built-in function- iter() and \n",
    "# the value can be accesed one at atime by  next()"
   ]
  },
  {
   "cell_type": "code",
   "execution_count": 33,
   "id": "0e1b2708",
   "metadata": {},
   "outputs": [
    {
     "data": {
      "text/plain": [
       "<list_iterator at 0x1f6ffeeff70>"
      ]
     },
     "execution_count": 33,
     "metadata": {},
     "output_type": "execute_result"
    }
   ],
   "source": [
    "l =[1,2,3,4,5,6]\n",
    "b=iter(l)\n",
    "b"
   ]
  },
  {
   "cell_type": "code",
   "execution_count": 36,
   "id": "95dc51cf",
   "metadata": {},
   "outputs": [
    {
     "data": {
      "text/plain": [
       "3"
      ]
     },
     "execution_count": 36,
     "metadata": {},
     "output_type": "execute_result"
    }
   ],
   "source": [
    "next(b)"
   ]
  },
  {
   "cell_type": "code",
   "execution_count": 37,
   "id": "b5ea2746",
   "metadata": {},
   "outputs": [
    {
     "data": {
      "text/plain": [
       "<generator object fun at 0x000001F6FFFDE9E0>"
      ]
     },
     "execution_count": 37,
     "metadata": {},
     "output_type": "execute_result"
    }
   ],
   "source": [
    "def fun(a,b):\n",
    "    c = a+b\n",
    "    yield(c)\n",
    "fun(10,30)"
   ]
  },
  {
   "cell_type": "code",
   "execution_count": 41,
   "id": "2b2e8f34",
   "metadata": {},
   "outputs": [
    {
     "data": {
      "text/plain": [
       "40"
      ]
     },
     "execution_count": 41,
     "metadata": {},
     "output_type": "execute_result"
    }
   ],
   "source": [
    "a = fun(10,30)\n",
    "next(a)"
   ]
  },
  {
   "cell_type": "code",
   "execution_count": 53,
   "id": "b46f2a5b",
   "metadata": {},
   "outputs": [
    {
     "data": {
      "text/plain": [
       "<generator object fib at 0x000001F6FFFE3B30>"
      ]
     },
     "execution_count": 53,
     "metadata": {},
     "output_type": "execute_result"
    }
   ],
   "source": [
    "def fib(n):\n",
    "    a=0\n",
    "    b=1\n",
    "    for i in range(n):\n",
    "        c = a\n",
    "        a = b\n",
    "        b = c+a\n",
    "        yield c\n",
    "fib(10)"
   ]
  },
  {
   "cell_type": "code",
   "execution_count": 54,
   "id": "a0517dca",
   "metadata": {},
   "outputs": [
    {
     "name": "stdout",
     "output_type": "stream",
     "text": [
      "0\n",
      "1\n",
      "1\n",
      "2\n",
      "3\n",
      "5\n",
      "8\n",
      "13\n",
      "21\n",
      "34\n"
     ]
    }
   ],
   "source": [
    "for i in fib(10):\n",
    "    print(i)"
   ]
  },
  {
   "cell_type": "code",
   "execution_count": 55,
   "id": "e1510d19",
   "metadata": {},
   "outputs": [],
   "source": [
    "a = fib(10)"
   ]
  },
  {
   "cell_type": "code",
   "execution_count": 62,
   "id": "fa0eb69b",
   "metadata": {},
   "outputs": [
    {
     "data": {
      "text/plain": [
       "5"
      ]
     },
     "execution_count": 62,
     "metadata": {},
     "output_type": "execute_result"
    }
   ],
   "source": [
    "next(a) # one value at one time"
   ]
  },
  {
   "cell_type": "code",
   "execution_count": null,
   "id": "85565074",
   "metadata": {},
   "outputs": [],
   "source": []
  },
  {
   "cell_type": "code",
   "execution_count": null,
   "id": "052fb9c3",
   "metadata": {},
   "outputs": [],
   "source": []
  },
  {
   "cell_type": "code",
   "execution_count": null,
   "id": "7626bd77",
   "metadata": {},
   "outputs": [],
   "source": []
  },
  {
   "cell_type": "code",
   "execution_count": null,
   "id": "f579c428",
   "metadata": {},
   "outputs": [],
   "source": []
  },
  {
   "cell_type": "code",
   "execution_count": null,
   "id": "dbd05c25",
   "metadata": {},
   "outputs": [],
   "source": []
  },
  {
   "cell_type": "code",
   "execution_count": null,
   "id": "cc9b7773",
   "metadata": {},
   "outputs": [],
   "source": []
  }
 ],
 "metadata": {
  "kernelspec": {
   "display_name": "Python 3 (ipykernel)",
   "language": "python",
   "name": "python3"
  },
  "language_info": {
   "codemirror_mode": {
    "name": "ipython",
    "version": 3
   },
   "file_extension": ".py",
   "mimetype": "text/x-python",
   "name": "python",
   "nbconvert_exporter": "python",
   "pygments_lexer": "ipython3",
   "version": "3.9.7"
  }
 },
 "nbformat": 4,
 "nbformat_minor": 5
}
